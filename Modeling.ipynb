{
 "cells": [
  {
   "cell_type": "code",
   "execution_count": 140,
   "id": "b16ee376",
   "metadata": {},
   "outputs": [],
   "source": [
    "import pandas as pd\n",
    "import numpy as np\n",
    "import wrangle\n",
    "import matplotlib.pyplot as plt\n",
    "\n",
    "# modeling methods\n",
    "from sklearn.metrics import mean_squared_error\n",
    "from sklearn.linear_model import LinearRegression, LassoLars, TweedieRegressor\n",
    "from sklearn.preprocessing import PolynomialFeatures\n",
    "from sklearn.metrics import explained_variance_score\n",
    "from sklearn.linear_model import TweedieRegressor\n",
    "\n",
    "import acquire\n",
    "import prepare\n",
    "\n",
    "import warnings\n",
    "warnings.filterwarnings(\"ignore\")"
   ]
  },
  {
   "cell_type": "markdown",
   "id": "bd97c8d5",
   "metadata": {},
   "source": [
    "#### Select a dataset with a continuous target variable."
   ]
  },
  {
   "cell_type": "code",
   "execution_count": 141,
   "id": "ab7d6213",
   "metadata": {},
   "outputs": [],
   "source": [
    "df = acquire.get_zillow_data()"
   ]
  },
  {
   "cell_type": "code",
   "execution_count": 142,
   "id": "c8f8b262",
   "metadata": {},
   "outputs": [
    {
     "data": {
      "text/html": [
       "<div>\n",
       "<style scoped>\n",
       "    .dataframe tbody tr th:only-of-type {\n",
       "        vertical-align: middle;\n",
       "    }\n",
       "\n",
       "    .dataframe tbody tr th {\n",
       "        vertical-align: top;\n",
       "    }\n",
       "\n",
       "    .dataframe thead th {\n",
       "        text-align: right;\n",
       "    }\n",
       "</style>\n",
       "<table border=\"1\" class=\"dataframe\">\n",
       "  <thead>\n",
       "    <tr style=\"text-align: right;\">\n",
       "      <th></th>\n",
       "      <th>bedroomcnt</th>\n",
       "      <th>bathroomcnt</th>\n",
       "      <th>calculatedfinishedsquarefeet</th>\n",
       "      <th>taxvaluedollarcnt</th>\n",
       "      <th>yearbuilt</th>\n",
       "      <th>taxamount</th>\n",
       "      <th>fips</th>\n",
       "    </tr>\n",
       "  </thead>\n",
       "  <tbody>\n",
       "    <tr>\n",
       "      <th>0</th>\n",
       "      <td>0.0</td>\n",
       "      <td>0.0</td>\n",
       "      <td>NaN</td>\n",
       "      <td>27516.0</td>\n",
       "      <td>NaN</td>\n",
       "      <td>NaN</td>\n",
       "      <td>6037.0</td>\n",
       "    </tr>\n",
       "    <tr>\n",
       "      <th>1</th>\n",
       "      <td>0.0</td>\n",
       "      <td>0.0</td>\n",
       "      <td>NaN</td>\n",
       "      <td>10.0</td>\n",
       "      <td>NaN</td>\n",
       "      <td>NaN</td>\n",
       "      <td>6037.0</td>\n",
       "    </tr>\n",
       "    <tr>\n",
       "      <th>2</th>\n",
       "      <td>0.0</td>\n",
       "      <td>0.0</td>\n",
       "      <td>NaN</td>\n",
       "      <td>10.0</td>\n",
       "      <td>NaN</td>\n",
       "      <td>NaN</td>\n",
       "      <td>6037.0</td>\n",
       "    </tr>\n",
       "    <tr>\n",
       "      <th>3</th>\n",
       "      <td>0.0</td>\n",
       "      <td>0.0</td>\n",
       "      <td>NaN</td>\n",
       "      <td>2108.0</td>\n",
       "      <td>NaN</td>\n",
       "      <td>174.21</td>\n",
       "      <td>6037.0</td>\n",
       "    </tr>\n",
       "    <tr>\n",
       "      <th>4</th>\n",
       "      <td>4.0</td>\n",
       "      <td>2.0</td>\n",
       "      <td>3633.0</td>\n",
       "      <td>296425.0</td>\n",
       "      <td>2005.0</td>\n",
       "      <td>6941.39</td>\n",
       "      <td>6037.0</td>\n",
       "    </tr>\n",
       "  </tbody>\n",
       "</table>\n",
       "</div>"
      ],
      "text/plain": [
       "   bedroomcnt  bathroomcnt  calculatedfinishedsquarefeet  taxvaluedollarcnt  \\\n",
       "0         0.0          0.0                           NaN            27516.0   \n",
       "1         0.0          0.0                           NaN               10.0   \n",
       "2         0.0          0.0                           NaN               10.0   \n",
       "3         0.0          0.0                           NaN             2108.0   \n",
       "4         4.0          2.0                        3633.0           296425.0   \n",
       "\n",
       "   yearbuilt  taxamount    fips  \n",
       "0        NaN        NaN  6037.0  \n",
       "1        NaN        NaN  6037.0  \n",
       "2        NaN        NaN  6037.0  \n",
       "3        NaN     174.21  6037.0  \n",
       "4     2005.0    6941.39  6037.0  "
      ]
     },
     "execution_count": 142,
     "metadata": {},
     "output_type": "execute_result"
    }
   ],
   "source": [
    "df.head()"
   ]
  },
  {
   "cell_type": "markdown",
   "id": "98d66ea9",
   "metadata": {},
   "source": [
    "#### Be sure your data is prepared (no missing values, numeric datatypes) and split into samples."
   ]
  },
  {
   "cell_type": "code",
   "execution_count": 143,
   "id": "951a4d97",
   "metadata": {},
   "outputs": [],
   "source": [
    "df = acquire.clean_zillow(df)"
   ]
  },
  {
   "cell_type": "code",
   "execution_count": 144,
   "id": "0836a875",
   "metadata": {},
   "outputs": [],
   "source": [
    "df = df.dropna()"
   ]
  },
  {
   "cell_type": "code",
   "execution_count": 145,
   "id": "782af03c",
   "metadata": {},
   "outputs": [
    {
     "data": {
      "text/html": [
       "<div>\n",
       "<style scoped>\n",
       "    .dataframe tbody tr th:only-of-type {\n",
       "        vertical-align: middle;\n",
       "    }\n",
       "\n",
       "    .dataframe tbody tr th {\n",
       "        vertical-align: top;\n",
       "    }\n",
       "\n",
       "    .dataframe thead th {\n",
       "        text-align: right;\n",
       "    }\n",
       "</style>\n",
       "<table border=\"1\" class=\"dataframe\">\n",
       "  <thead>\n",
       "    <tr style=\"text-align: right;\">\n",
       "      <th></th>\n",
       "      <th>sqft</th>\n",
       "      <th>baths</th>\n",
       "      <th>beds</th>\n",
       "      <th>tax_value</th>\n",
       "      <th>year_built</th>\n",
       "      <th>tax_amount</th>\n",
       "      <th>fips</th>\n",
       "    </tr>\n",
       "  </thead>\n",
       "  <tbody>\n",
       "    <tr>\n",
       "      <th>4</th>\n",
       "      <td>3633.0</td>\n",
       "      <td>2.0</td>\n",
       "      <td>4.0</td>\n",
       "      <td>296425.0</td>\n",
       "      <td>2005.0</td>\n",
       "      <td>6941.39</td>\n",
       "      <td>6037.0</td>\n",
       "    </tr>\n",
       "    <tr>\n",
       "      <th>6</th>\n",
       "      <td>1620.0</td>\n",
       "      <td>4.0</td>\n",
       "      <td>3.0</td>\n",
       "      <td>847770.0</td>\n",
       "      <td>2011.0</td>\n",
       "      <td>10244.94</td>\n",
       "      <td>6037.0</td>\n",
       "    </tr>\n",
       "    <tr>\n",
       "      <th>7</th>\n",
       "      <td>2077.0</td>\n",
       "      <td>2.0</td>\n",
       "      <td>3.0</td>\n",
       "      <td>646760.0</td>\n",
       "      <td>1926.0</td>\n",
       "      <td>7924.68</td>\n",
       "      <td>6037.0</td>\n",
       "    </tr>\n",
       "    <tr>\n",
       "      <th>11</th>\n",
       "      <td>1200.0</td>\n",
       "      <td>0.0</td>\n",
       "      <td>0.0</td>\n",
       "      <td>5328.0</td>\n",
       "      <td>1972.0</td>\n",
       "      <td>91.60</td>\n",
       "      <td>6037.0</td>\n",
       "    </tr>\n",
       "    <tr>\n",
       "      <th>14</th>\n",
       "      <td>171.0</td>\n",
       "      <td>0.0</td>\n",
       "      <td>0.0</td>\n",
       "      <td>6920.0</td>\n",
       "      <td>1973.0</td>\n",
       "      <td>255.17</td>\n",
       "      <td>6037.0</td>\n",
       "    </tr>\n",
       "  </tbody>\n",
       "</table>\n",
       "</div>"
      ],
      "text/plain": [
       "      sqft  baths  beds  tax_value  year_built  tax_amount    fips\n",
       "4   3633.0    2.0   4.0   296425.0      2005.0     6941.39  6037.0\n",
       "6   1620.0    4.0   3.0   847770.0      2011.0    10244.94  6037.0\n",
       "7   2077.0    2.0   3.0   646760.0      1926.0     7924.68  6037.0\n",
       "11  1200.0    0.0   0.0     5328.0      1972.0       91.60  6037.0\n",
       "14   171.0    0.0   0.0     6920.0      1973.0      255.17  6037.0"
      ]
     },
     "execution_count": 145,
     "metadata": {},
     "output_type": "execute_result"
    }
   ],
   "source": [
    "df.head()"
   ]
  },
  {
   "cell_type": "code",
   "execution_count": 146,
   "id": "b6cd6b39",
   "metadata": {},
   "outputs": [],
   "source": [
    "train, validate, test, X_train, y_train, X_validate, y_validate, X_test, y_test = prepare.train_validate_test(df,\"tax_value\")"
   ]
  },
  {
   "cell_type": "code",
   "execution_count": 147,
   "id": "2b6c763c",
   "metadata": {},
   "outputs": [],
   "source": [
    "scaler, X_train_scaled, X_validate_scaled, X_test_scaled = prepare.Standard_Scaler(X_train,X_validate,X_test)"
   ]
  },
  {
   "cell_type": "code",
   "execution_count": 148,
   "id": "1f741330",
   "metadata": {},
   "outputs": [],
   "source": [
    "y_train = pd.DataFrame(y_train)\n",
    "y_validate = pd.DataFrame(y_validate)"
   ]
  },
  {
   "cell_type": "code",
   "execution_count": 149,
   "id": "8a49a9fa",
   "metadata": {},
   "outputs": [
    {
     "data": {
      "text/html": [
       "<div>\n",
       "<style scoped>\n",
       "    .dataframe tbody tr th:only-of-type {\n",
       "        vertical-align: middle;\n",
       "    }\n",
       "\n",
       "    .dataframe tbody tr th {\n",
       "        vertical-align: top;\n",
       "    }\n",
       "\n",
       "    .dataframe thead th {\n",
       "        text-align: right;\n",
       "    }\n",
       "</style>\n",
       "<table border=\"1\" class=\"dataframe\">\n",
       "  <thead>\n",
       "    <tr style=\"text-align: right;\">\n",
       "      <th></th>\n",
       "      <th>tax_value</th>\n",
       "    </tr>\n",
       "  </thead>\n",
       "  <tbody>\n",
       "    <tr>\n",
       "      <th>1567873</th>\n",
       "      <td>191578.0</td>\n",
       "    </tr>\n",
       "    <tr>\n",
       "      <th>1218138</th>\n",
       "      <td>1345206.0</td>\n",
       "    </tr>\n",
       "    <tr>\n",
       "      <th>339661</th>\n",
       "      <td>356648.0</td>\n",
       "    </tr>\n",
       "    <tr>\n",
       "      <th>1017133</th>\n",
       "      <td>175069.0</td>\n",
       "    </tr>\n",
       "    <tr>\n",
       "      <th>40250</th>\n",
       "      <td>543000.0</td>\n",
       "    </tr>\n",
       "  </tbody>\n",
       "</table>\n",
       "</div>"
      ],
      "text/plain": [
       "         tax_value\n",
       "1567873   191578.0\n",
       "1218138  1345206.0\n",
       "339661    356648.0\n",
       "1017133   175069.0\n",
       "40250     543000.0"
      ]
     },
     "execution_count": 149,
     "metadata": {},
     "output_type": "execute_result"
    }
   ],
   "source": [
    "y_train.head()"
   ]
  },
  {
   "cell_type": "markdown",
   "id": "50103de1",
   "metadata": {},
   "source": [
    "#### Work through all of the steps outlined in the lesson, from setting the baseline to selected a model and evaluating the final model on your test data."
   ]
  },
  {
   "cell_type": "code",
   "execution_count": 150,
   "id": "53848a00",
   "metadata": {},
   "outputs": [],
   "source": [
    "tax_value_pred_mean = y_train.tax_value.mean()\n",
    "y_train['tax_value_pred_mean'] = tax_value_pred_mean\n",
    "y_validate['tax_value_pred_mean'] = tax_value_pred_mean"
   ]
  },
  {
   "cell_type": "code",
   "execution_count": 151,
   "id": "6486101c",
   "metadata": {},
   "outputs": [],
   "source": [
    "tax_value_pred_median = y_train.tax_value.median()\n",
    "y_train['tax_value_pred_median'] = tax_value_pred_median\n",
    "y_validate['tax_value_pred_median'] = tax_value_pred_median"
   ]
  },
  {
   "cell_type": "code",
   "execution_count": 152,
   "id": "c5178743",
   "metadata": {},
   "outputs": [],
   "source": [
    "rmse_train = mean_squared_error(y_train.tax_value, y_train.tax_value_pred_mean) ** .5\n",
    "rmse_validate = mean_squared_error(y_validate.tax_value, y_validate.tax_value_pred_mean) ** (1/2)"
   ]
  },
  {
   "cell_type": "code",
   "execution_count": 153,
   "id": "4db53dc3",
   "metadata": {},
   "outputs": [
    {
     "name": "stdout",
     "output_type": "stream",
     "text": [
      "RMSE using Mean\n",
      "Train/In-Sample:  688918.84 \n",
      "Validate/Out-of-Sample:  668128.53\n",
      "RMSE using Median\n",
      "Train/In-Sample:  701590.78 \n",
      "Validate/Out-of-Sample:  680685.64\n"
     ]
    }
   ],
   "source": [
    "print(\"RMSE using Mean\\nTrain/In-Sample: \", round(rmse_train, 2), \n",
    "      \"\\nValidate/Out-of-Sample: \", round(rmse_validate, 2))\n",
    "\n",
    "# 4. RMSE of tax_value_pred_median\n",
    "rmse_train = mean_squared_error(y_train.tax_value, y_train.tax_value_pred_median) ** .5\n",
    "rmse_validate = mean_squared_error(y_validate.tax_value, y_validate.tax_value_pred_median) ** .5\n",
    "print(\"RMSE using Median\\nTrain/In-Sample: \", round(rmse_train, 2), \n",
    "      \"\\nValidate/Out-of-Sample: \", round(rmse_validate, 2))"
   ]
  },
  {
   "cell_type": "code",
   "execution_count": 154,
   "id": "c7fa2fb1",
   "metadata": {},
   "outputs": [],
   "source": [
    "def make_metric_df(y, y_pred, model_name, metric_df):\n",
    "    if metric_df.size ==0:\n",
    "        metric_df = pd.DataFrame(data=[\n",
    "            {\n",
    "                'model': model_name, \n",
    "                'RMSE_validate': mean_squared_error(\n",
    "                    y,\n",
    "                    y_pred) ** .5,\n",
    "                'r^2_validate': explained_variance_score(\n",
    "                    y,\n",
    "                    y_pred)\n",
    "            }])\n",
    "        return metric_df\n",
    "    else:\n",
    "        return metric_df.append(\n",
    "            {\n",
    "                'model': model_name, \n",
    "                'RMSE_validate': mean_squared_error(\n",
    "                    y,\n",
    "                    y_pred) ** .5,\n",
    "                'r^2_validate': explained_variance_score(\n",
    "                    y,\n",
    "                    y_pred)\n",
    "            }, ignore_index=True)"
   ]
  },
  {
   "cell_type": "code",
   "execution_count": 155,
   "id": "0914891d",
   "metadata": {},
   "outputs": [],
   "source": [
    "metric_df = pd.DataFrame()\n",
    "metric_df = make_metric_df(y_train.tax_value,\n",
    "                           y_train.tax_value_pred_median,\n",
    "                           'median_baseline',\n",
    "                          metric_df)"
   ]
  },
  {
   "cell_type": "code",
   "execution_count": 156,
   "id": "7e9b7c35",
   "metadata": {},
   "outputs": [
    {
     "data": {
      "text/html": [
       "<div>\n",
       "<style scoped>\n",
       "    .dataframe tbody tr th:only-of-type {\n",
       "        vertical-align: middle;\n",
       "    }\n",
       "\n",
       "    .dataframe tbody tr th {\n",
       "        vertical-align: top;\n",
       "    }\n",
       "\n",
       "    .dataframe thead th {\n",
       "        text-align: right;\n",
       "    }\n",
       "</style>\n",
       "<table border=\"1\" class=\"dataframe\">\n",
       "  <thead>\n",
       "    <tr style=\"text-align: right;\">\n",
       "      <th></th>\n",
       "      <th>model</th>\n",
       "      <th>RMSE_validate</th>\n",
       "      <th>r^2_validate</th>\n",
       "    </tr>\n",
       "  </thead>\n",
       "  <tbody>\n",
       "    <tr>\n",
       "      <th>0</th>\n",
       "      <td>median_baseline</td>\n",
       "      <td>701590.778243</td>\n",
       "      <td>0.0</td>\n",
       "    </tr>\n",
       "  </tbody>\n",
       "</table>\n",
       "</div>"
      ],
      "text/plain": [
       "             model  RMSE_validate  r^2_validate\n",
       "0  median_baseline  701590.778243           0.0"
      ]
     },
     "execution_count": 156,
     "metadata": {},
     "output_type": "execute_result"
    }
   ],
   "source": [
    "metric_df"
   ]
  },
  {
   "cell_type": "code",
   "execution_count": 157,
   "id": "981441b0",
   "metadata": {},
   "outputs": [],
   "source": [
    "metric_df = make_metric_df(y_train.tax_value, y_train.tax_value_pred_mean, \"mean_baseline\", metric_df)"
   ]
  },
  {
   "cell_type": "code",
   "execution_count": 158,
   "id": "25709869",
   "metadata": {},
   "outputs": [
    {
     "data": {
      "text/html": [
       "<div>\n",
       "<style scoped>\n",
       "    .dataframe tbody tr th:only-of-type {\n",
       "        vertical-align: middle;\n",
       "    }\n",
       "\n",
       "    .dataframe tbody tr th {\n",
       "        vertical-align: top;\n",
       "    }\n",
       "\n",
       "    .dataframe thead th {\n",
       "        text-align: right;\n",
       "    }\n",
       "</style>\n",
       "<table border=\"1\" class=\"dataframe\">\n",
       "  <thead>\n",
       "    <tr style=\"text-align: right;\">\n",
       "      <th></th>\n",
       "      <th>model</th>\n",
       "      <th>RMSE_validate</th>\n",
       "      <th>r^2_validate</th>\n",
       "    </tr>\n",
       "  </thead>\n",
       "  <tbody>\n",
       "    <tr>\n",
       "      <th>0</th>\n",
       "      <td>median_baseline</td>\n",
       "      <td>701590.778243</td>\n",
       "      <td>0.0</td>\n",
       "    </tr>\n",
       "    <tr>\n",
       "      <th>1</th>\n",
       "      <td>mean_baseline</td>\n",
       "      <td>688918.835407</td>\n",
       "      <td>0.0</td>\n",
       "    </tr>\n",
       "  </tbody>\n",
       "</table>\n",
       "</div>"
      ],
      "text/plain": [
       "             model  RMSE_validate  r^2_validate\n",
       "0  median_baseline  701590.778243           0.0\n",
       "1    mean_baseline  688918.835407           0.0"
      ]
     },
     "execution_count": 158,
     "metadata": {},
     "output_type": "execute_result"
    }
   ],
   "source": [
    "metric_df"
   ]
  },
  {
   "cell_type": "code",
   "execution_count": 159,
   "id": "0880a9ea",
   "metadata": {},
   "outputs": [],
   "source": [
    "lm = LinearRegression(normalize=True)"
   ]
  },
  {
   "cell_type": "code",
   "execution_count": 160,
   "id": "ecf7b0a2",
   "metadata": {},
   "outputs": [
    {
     "data": {
      "text/plain": [
       "LinearRegression(normalize=True)"
      ]
     },
     "execution_count": 160,
     "metadata": {},
     "output_type": "execute_result"
    }
   ],
   "source": [
    "lm.fit(X_train_scaled, y_train.tax_value)"
   ]
  },
  {
   "cell_type": "code",
   "execution_count": 161,
   "id": "bcebf8b3",
   "metadata": {},
   "outputs": [],
   "source": [
    "y_train['tax_value_pred_lm'] = lm.predict(X_train_scaled)"
   ]
  },
  {
   "cell_type": "code",
   "execution_count": 162,
   "id": "ecb4f623",
   "metadata": {},
   "outputs": [
    {
     "name": "stdout",
     "output_type": "stream",
     "text": [
      "RMSE for OLS using LinearRegression\n",
      "Training/In-Sample:  89304.36690635968 \n",
      "Validation/Out-of-Sample:  6550820002.769056\n"
     ]
    }
   ],
   "source": [
    "rmse_train = mean_squared_error(y_train.tax_value, y_train.tax_value_pred_lm) ** (1/2)\n",
    "\n",
    "# predict validate\n",
    "y_validate['tax_value_pred_lm'] = lm.predict(X_validate)\n",
    "\n",
    "# evaluate: rmse\n",
    "rmse_validate = mean_squared_error(y_validate.tax_value, y_validate.tax_value_pred_lm) ** (1/2)\n",
    "\n",
    "print(\"RMSE for OLS using LinearRegression\\nTraining/In-Sample: \", rmse_train, \n",
    "      \"\\nValidation/Out-of-Sample: \", rmse_validate)"
   ]
  },
  {
   "cell_type": "code",
   "execution_count": 163,
   "id": "614311c2",
   "metadata": {},
   "outputs": [
    {
     "data": {
      "text/html": [
       "<div>\n",
       "<style scoped>\n",
       "    .dataframe tbody tr th:only-of-type {\n",
       "        vertical-align: middle;\n",
       "    }\n",
       "\n",
       "    .dataframe tbody tr th {\n",
       "        vertical-align: top;\n",
       "    }\n",
       "\n",
       "    .dataframe thead th {\n",
       "        text-align: right;\n",
       "    }\n",
       "</style>\n",
       "<table border=\"1\" class=\"dataframe\">\n",
       "  <thead>\n",
       "    <tr style=\"text-align: right;\">\n",
       "      <th></th>\n",
       "      <th>tax_value</th>\n",
       "      <th>tax_value_pred_mean</th>\n",
       "      <th>tax_value_pred_median</th>\n",
       "      <th>tax_value_pred_lm</th>\n",
       "    </tr>\n",
       "  </thead>\n",
       "  <tbody>\n",
       "    <tr>\n",
       "      <th>1567873</th>\n",
       "      <td>191578.0</td>\n",
       "      <td>461370.07448</td>\n",
       "      <td>328628.0</td>\n",
       "      <td>1.976229e+05</td>\n",
       "    </tr>\n",
       "    <tr>\n",
       "      <th>1218138</th>\n",
       "      <td>1345206.0</td>\n",
       "      <td>461370.07448</td>\n",
       "      <td>328628.0</td>\n",
       "      <td>1.393201e+06</td>\n",
       "    </tr>\n",
       "    <tr>\n",
       "      <th>339661</th>\n",
       "      <td>356648.0</td>\n",
       "      <td>461370.07448</td>\n",
       "      <td>328628.0</td>\n",
       "      <td>3.595119e+05</td>\n",
       "    </tr>\n",
       "    <tr>\n",
       "      <th>1017133</th>\n",
       "      <td>175069.0</td>\n",
       "      <td>461370.07448</td>\n",
       "      <td>328628.0</td>\n",
       "      <td>1.984781e+05</td>\n",
       "    </tr>\n",
       "    <tr>\n",
       "      <th>40250</th>\n",
       "      <td>543000.0</td>\n",
       "      <td>461370.07448</td>\n",
       "      <td>328628.0</td>\n",
       "      <td>5.329430e+05</td>\n",
       "    </tr>\n",
       "  </tbody>\n",
       "</table>\n",
       "</div>"
      ],
      "text/plain": [
       "         tax_value  tax_value_pred_mean  tax_value_pred_median  \\\n",
       "1567873   191578.0         461370.07448               328628.0   \n",
       "1218138  1345206.0         461370.07448               328628.0   \n",
       "339661    356648.0         461370.07448               328628.0   \n",
       "1017133   175069.0         461370.07448               328628.0   \n",
       "40250     543000.0         461370.07448               328628.0   \n",
       "\n",
       "         tax_value_pred_lm  \n",
       "1567873       1.976229e+05  \n",
       "1218138       1.393201e+06  \n",
       "339661        3.595119e+05  \n",
       "1017133       1.984781e+05  \n",
       "40250         5.329430e+05  "
      ]
     },
     "execution_count": 163,
     "metadata": {},
     "output_type": "execute_result"
    }
   ],
   "source": [
    "y_train.head()"
   ]
  },
  {
   "cell_type": "code",
   "execution_count": 164,
   "id": "49b25202",
   "metadata": {},
   "outputs": [],
   "source": [
    "metric_df = make_metric_df(y_train.tax_value, y_train.tax_value_pred_lm, \"lm_model\", metric_df)"
   ]
  },
  {
   "cell_type": "code",
   "execution_count": 165,
   "id": "085f0e85",
   "metadata": {},
   "outputs": [
    {
     "data": {
      "text/html": [
       "<div>\n",
       "<style scoped>\n",
       "    .dataframe tbody tr th:only-of-type {\n",
       "        vertical-align: middle;\n",
       "    }\n",
       "\n",
       "    .dataframe tbody tr th {\n",
       "        vertical-align: top;\n",
       "    }\n",
       "\n",
       "    .dataframe thead th {\n",
       "        text-align: right;\n",
       "    }\n",
       "</style>\n",
       "<table border=\"1\" class=\"dataframe\">\n",
       "  <thead>\n",
       "    <tr style=\"text-align: right;\">\n",
       "      <th></th>\n",
       "      <th>model</th>\n",
       "      <th>RMSE_validate</th>\n",
       "      <th>r^2_validate</th>\n",
       "    </tr>\n",
       "  </thead>\n",
       "  <tbody>\n",
       "    <tr>\n",
       "      <th>0</th>\n",
       "      <td>median_baseline</td>\n",
       "      <td>701590.778243</td>\n",
       "      <td>0.000000</td>\n",
       "    </tr>\n",
       "    <tr>\n",
       "      <th>1</th>\n",
       "      <td>mean_baseline</td>\n",
       "      <td>688918.835407</td>\n",
       "      <td>0.000000</td>\n",
       "    </tr>\n",
       "    <tr>\n",
       "      <th>2</th>\n",
       "      <td>lm_model</td>\n",
       "      <td>89304.366906</td>\n",
       "      <td>0.983196</td>\n",
       "    </tr>\n",
       "  </tbody>\n",
       "</table>\n",
       "</div>"
      ],
      "text/plain": [
       "             model  RMSE_validate  r^2_validate\n",
       "0  median_baseline  701590.778243      0.000000\n",
       "1    mean_baseline  688918.835407      0.000000\n",
       "2         lm_model   89304.366906      0.983196"
      ]
     },
     "execution_count": 165,
     "metadata": {},
     "output_type": "execute_result"
    }
   ],
   "source": [
    "metric_df"
   ]
  },
  {
   "cell_type": "code",
   "execution_count": 166,
   "id": "423d3dc1",
   "metadata": {},
   "outputs": [
    {
     "name": "stdout",
     "output_type": "stream",
     "text": [
      "RMSE for Lasso + Lars\n",
      "Training/In-Sample:  89380.67787450404 \n",
      "Validation/Out-of-Sample:  88492.38339160997\n"
     ]
    }
   ],
   "source": [
    "# create the model object\n",
    "lars = LassoLars(alpha=1)\n",
    "\n",
    "# fit the model to our training data. We must specify the column in y_train, \n",
    "# since we have converted it to a dataframe from a series!\n",
    "lars.fit(X_train_scaled, y_train.tax_value)\n",
    "\n",
    "# predict train\n",
    "y_train['tax_value_pred_lars'] = lars.predict(X_train_scaled)\n",
    "\n",
    "# evaluate: rmse\n",
    "rmse_train = mean_squared_error(y_train.tax_value, y_train.tax_value_pred_lars) ** (1/2)\n",
    "\n",
    "# predict validate\n",
    "y_validate['tax_value_pred_lars'] = lars.predict(X_validate_scaled)\n",
    "\n",
    "# evaluate: rmse\n",
    "rmse_validate = mean_squared_error(y_validate.tax_value, y_validate.tax_value_pred_lars) ** (1/2)\n",
    "\n",
    "print(\"RMSE for Lasso + Lars\\nTraining/In-Sample: \", rmse_train, \n",
    "      \"\\nValidation/Out-of-Sample: \", rmse_validate)"
   ]
  },
  {
   "cell_type": "code",
   "execution_count": 167,
   "id": "70c2e273",
   "metadata": {},
   "outputs": [],
   "source": [
    "metric_df = make_metric_df(y_validate.tax_value,\n",
    "               y_validate.tax_value_pred_lars,\n",
    "               'lasso_alpha_1',\n",
    "               metric_df)"
   ]
  },
  {
   "cell_type": "code",
   "execution_count": 168,
   "id": "4d467f4c",
   "metadata": {},
   "outputs": [
    {
     "data": {
      "text/html": [
       "<div>\n",
       "<style scoped>\n",
       "    .dataframe tbody tr th:only-of-type {\n",
       "        vertical-align: middle;\n",
       "    }\n",
       "\n",
       "    .dataframe tbody tr th {\n",
       "        vertical-align: top;\n",
       "    }\n",
       "\n",
       "    .dataframe thead th {\n",
       "        text-align: right;\n",
       "    }\n",
       "</style>\n",
       "<table border=\"1\" class=\"dataframe\">\n",
       "  <thead>\n",
       "    <tr style=\"text-align: right;\">\n",
       "      <th></th>\n",
       "      <th>model</th>\n",
       "      <th>RMSE_validate</th>\n",
       "      <th>r^2_validate</th>\n",
       "    </tr>\n",
       "  </thead>\n",
       "  <tbody>\n",
       "    <tr>\n",
       "      <th>0</th>\n",
       "      <td>median_baseline</td>\n",
       "      <td>701590.778243</td>\n",
       "      <td>0.000000</td>\n",
       "    </tr>\n",
       "    <tr>\n",
       "      <th>1</th>\n",
       "      <td>mean_baseline</td>\n",
       "      <td>688918.835407</td>\n",
       "      <td>0.000000</td>\n",
       "    </tr>\n",
       "    <tr>\n",
       "      <th>2</th>\n",
       "      <td>lm_model</td>\n",
       "      <td>89304.366906</td>\n",
       "      <td>0.983196</td>\n",
       "    </tr>\n",
       "    <tr>\n",
       "      <th>3</th>\n",
       "      <td>lasso_alpha_1</td>\n",
       "      <td>88492.383392</td>\n",
       "      <td>0.982457</td>\n",
       "    </tr>\n",
       "  </tbody>\n",
       "</table>\n",
       "</div>"
      ],
      "text/plain": [
       "             model  RMSE_validate  r^2_validate\n",
       "0  median_baseline  701590.778243      0.000000\n",
       "1    mean_baseline  688918.835407      0.000000\n",
       "2         lm_model   89304.366906      0.983196\n",
       "3    lasso_alpha_1   88492.383392      0.982457"
      ]
     },
     "execution_count": 168,
     "metadata": {},
     "output_type": "execute_result"
    }
   ],
   "source": [
    "metric_df"
   ]
  },
  {
   "cell_type": "code",
   "execution_count": 169,
   "id": "554efe92",
   "metadata": {},
   "outputs": [
    {
     "name": "stdout",
     "output_type": "stream",
     "text": [
      "RMSE for GLM using Tweedie, power=1 & alpha=0\n",
      "Training/In-Sample:  3602240.4933254234 \n",
      "Validation/Out-of-Sample:  3602240.4933254234\n"
     ]
    }
   ],
   "source": [
    "# create the model object\n",
    "glm = TweedieRegressor(power=1, alpha=0)\n",
    "\n",
    "\n",
    "# fit the model to our training data. We must specify the column in y_train, \n",
    "# since we have converted it to a dataframe from a series! \n",
    "glm.fit(X_train_scaled, y_train.tax_value)\n",
    "\n",
    "# predict train\n",
    "y_train['tax_value_pred_glm'] = glm.predict(X_train_scaled)\n",
    "\n",
    "# evaluate: rmse\n",
    "rmse_train = mean_squared_error(y_train.tax_value, y_train.tax_value_pred_glm) ** (1/2)\n",
    "\n",
    "# predict validate\n",
    "y_validate['tax_value_pred_glm'] = glm.predict(X_validate_scaled)\n",
    "\n",
    "# evaluate: rmse\n",
    "rmse_validate = mean_squared_error(y_train.tax_value, y_train.tax_value_pred_glm) ** (1/2)\n",
    "\n",
    "print(\"RMSE for GLM using Tweedie, power=1 & alpha=0\\nTraining/In-Sample: \", rmse_train, \n",
    "      \"\\nValidation/Out-of-Sample: \", rmse_validate)"
   ]
  },
  {
   "cell_type": "code",
   "execution_count": 170,
   "id": "df43b152",
   "metadata": {},
   "outputs": [],
   "source": [
    "metric_df = make_metric_df(y_validate.tax_value,\n",
    "               y_validate.tax_value_pred_glm,\n",
    "               'glm_poisson',\n",
    "               metric_df)"
   ]
  },
  {
   "cell_type": "code",
   "execution_count": 171,
   "id": "a341cbe0",
   "metadata": {},
   "outputs": [
    {
     "data": {
      "text/html": [
       "<div>\n",
       "<style scoped>\n",
       "    .dataframe tbody tr th:only-of-type {\n",
       "        vertical-align: middle;\n",
       "    }\n",
       "\n",
       "    .dataframe tbody tr th {\n",
       "        vertical-align: top;\n",
       "    }\n",
       "\n",
       "    .dataframe thead th {\n",
       "        text-align: right;\n",
       "    }\n",
       "</style>\n",
       "<table border=\"1\" class=\"dataframe\">\n",
       "  <thead>\n",
       "    <tr style=\"text-align: right;\">\n",
       "      <th></th>\n",
       "      <th>model</th>\n",
       "      <th>RMSE_validate</th>\n",
       "      <th>r^2_validate</th>\n",
       "    </tr>\n",
       "  </thead>\n",
       "  <tbody>\n",
       "    <tr>\n",
       "      <th>0</th>\n",
       "      <td>median_baseline</td>\n",
       "      <td>7.015908e+05</td>\n",
       "      <td>0.000000</td>\n",
       "    </tr>\n",
       "    <tr>\n",
       "      <th>1</th>\n",
       "      <td>mean_baseline</td>\n",
       "      <td>6.889188e+05</td>\n",
       "      <td>0.000000</td>\n",
       "    </tr>\n",
       "    <tr>\n",
       "      <th>2</th>\n",
       "      <td>lm_model</td>\n",
       "      <td>8.930437e+04</td>\n",
       "      <td>0.983196</td>\n",
       "    </tr>\n",
       "    <tr>\n",
       "      <th>3</th>\n",
       "      <td>lasso_alpha_1</td>\n",
       "      <td>8.849238e+04</td>\n",
       "      <td>0.982457</td>\n",
       "    </tr>\n",
       "    <tr>\n",
       "      <th>4</th>\n",
       "      <td>glm_poisson</td>\n",
       "      <td>7.739156e+06</td>\n",
       "      <td>-133.175373</td>\n",
       "    </tr>\n",
       "  </tbody>\n",
       "</table>\n",
       "</div>"
      ],
      "text/plain": [
       "             model  RMSE_validate  r^2_validate\n",
       "0  median_baseline   7.015908e+05      0.000000\n",
       "1    mean_baseline   6.889188e+05      0.000000\n",
       "2         lm_model   8.930437e+04      0.983196\n",
       "3    lasso_alpha_1   8.849238e+04      0.982457\n",
       "4      glm_poisson   7.739156e+06   -133.175373"
      ]
     },
     "execution_count": 171,
     "metadata": {},
     "output_type": "execute_result"
    }
   ],
   "source": [
    "metric_df"
   ]
  },
  {
   "cell_type": "code",
   "execution_count": 172,
   "id": "967c9ca8",
   "metadata": {},
   "outputs": [],
   "source": [
    "# make the polynomial features to get a new set of features\n",
    "pf = PolynomialFeatures(degree=2)\n",
    "\n",
    "# fit and transform X_train_scaled\n",
    "X_train_degree2 = pf.fit_transform(X_train_scaled)\n",
    "\n",
    "# transform X_validate_scaled & X_test_scaled\n",
    "X_validate_degree2 = pf.transform(X_validate_scaled)\n",
    "X_test_degree2 =  pf.transform(X_test_scaled)"
   ]
  },
  {
   "cell_type": "code",
   "execution_count": 173,
   "id": "bd8a9f65",
   "metadata": {},
   "outputs": [
    {
     "name": "stdout",
     "output_type": "stream",
     "text": [
      "RMSE for Polynomial Model, degrees=2\n",
      "Training/In-Sample:  85861.92084762435 \n",
      "Validation/Out-of-Sample:  7206129959.404406\n"
     ]
    }
   ],
   "source": [
    "# create the model object\n",
    "lm2 = LinearRegression(normalize=True)\n",
    "\n",
    "# fit the model to our training data. We must specify the column in y_train, \n",
    "# since we have converted it to a dataframe from a series! \n",
    "lm2.fit(X_train_degree2, y_train.tax_value)\n",
    "\n",
    "# predict train\n",
    "y_train['tax_value_pred_lm2'] = lm2.predict(X_train_degree2)\n",
    "\n",
    "# evaluate: rmse\n",
    "rmse_train = mean_squared_error(y_train.tax_value, y_train.tax_value_pred_lm2) ** (1/2)\n",
    "\n",
    "# predict validate\n",
    "y_validate['tax_value_pred_lm2'] = lm2.predict(X_validate_degree2)\n",
    "\n",
    "# evaluate: rmse\n",
    "rmse_validate = mean_squared_error(y_validate.tax_value, y_validate.tax_value_pred_lm2)\n",
    "\n",
    "print(\"RMSE for Polynomial Model, degrees=2\\nTraining/In-Sample: \", rmse_train, \n",
    "      \"\\nValidation/Out-of-Sample: \", rmse_validate)"
   ]
  },
  {
   "cell_type": "code",
   "execution_count": 174,
   "id": "3e44dffa",
   "metadata": {},
   "outputs": [],
   "source": [
    "metric_df = make_metric_df(y_validate.tax_value,\n",
    "               y_validate.tax_value_pred_lm2,\n",
    "               'quadratic',\n",
    "               metric_df)"
   ]
  },
  {
   "cell_type": "code",
   "execution_count": 175,
   "id": "fa234a3d",
   "metadata": {},
   "outputs": [
    {
     "data": {
      "text/html": [
       "<div>\n",
       "<style scoped>\n",
       "    .dataframe tbody tr th:only-of-type {\n",
       "        vertical-align: middle;\n",
       "    }\n",
       "\n",
       "    .dataframe tbody tr th {\n",
       "        vertical-align: top;\n",
       "    }\n",
       "\n",
       "    .dataframe thead th {\n",
       "        text-align: right;\n",
       "    }\n",
       "</style>\n",
       "<table border=\"1\" class=\"dataframe\">\n",
       "  <thead>\n",
       "    <tr style=\"text-align: right;\">\n",
       "      <th></th>\n",
       "      <th>model</th>\n",
       "      <th>RMSE_validate</th>\n",
       "      <th>r^2_validate</th>\n",
       "    </tr>\n",
       "  </thead>\n",
       "  <tbody>\n",
       "    <tr>\n",
       "      <th>0</th>\n",
       "      <td>median_baseline</td>\n",
       "      <td>7.015908e+05</td>\n",
       "      <td>0.000000</td>\n",
       "    </tr>\n",
       "    <tr>\n",
       "      <th>1</th>\n",
       "      <td>mean_baseline</td>\n",
       "      <td>6.889188e+05</td>\n",
       "      <td>0.000000</td>\n",
       "    </tr>\n",
       "    <tr>\n",
       "      <th>2</th>\n",
       "      <td>lm_model</td>\n",
       "      <td>8.930437e+04</td>\n",
       "      <td>0.983196</td>\n",
       "    </tr>\n",
       "    <tr>\n",
       "      <th>3</th>\n",
       "      <td>lasso_alpha_1</td>\n",
       "      <td>8.849238e+04</td>\n",
       "      <td>0.982457</td>\n",
       "    </tr>\n",
       "    <tr>\n",
       "      <th>4</th>\n",
       "      <td>glm_poisson</td>\n",
       "      <td>7.739156e+06</td>\n",
       "      <td>-133.175373</td>\n",
       "    </tr>\n",
       "    <tr>\n",
       "      <th>5</th>\n",
       "      <td>quadratic</td>\n",
       "      <td>8.488893e+04</td>\n",
       "      <td>0.983857</td>\n",
       "    </tr>\n",
       "  </tbody>\n",
       "</table>\n",
       "</div>"
      ],
      "text/plain": [
       "             model  RMSE_validate  r^2_validate\n",
       "0  median_baseline   7.015908e+05      0.000000\n",
       "1    mean_baseline   6.889188e+05      0.000000\n",
       "2         lm_model   8.930437e+04      0.983196\n",
       "3    lasso_alpha_1   8.849238e+04      0.982457\n",
       "4      glm_poisson   7.739156e+06   -133.175373\n",
       "5        quadratic   8.488893e+04      0.983857"
      ]
     },
     "execution_count": 175,
     "metadata": {},
     "output_type": "execute_result"
    }
   ],
   "source": [
    "metric_df"
   ]
  },
  {
   "cell_type": "code",
   "execution_count": 177,
   "id": "18052993",
   "metadata": {},
   "outputs": [
    {
     "name": "stdout",
     "output_type": "stream",
     "text": [
      "RMSE for OLS Model using LinearRegression\n",
      "Out-of-Sample Performance:  82460.68931675899\n"
     ]
    }
   ],
   "source": [
    "y_test = pd.DataFrame(y_test)\n",
    "\n",
    "# predict on test\n",
    "y_test['tax_value_pred_lm'] = lm.predict(X_test_scaled)\n",
    "\n",
    "# evaluate: rmse\n",
    "rmse_test = mean_squared_error(y_test.tax_value, y_test.tax_value_pred_lm) ** (1/2)\n",
    "\n",
    "print(\"RMSE for OLS Model using LinearRegression\\nOut-of-Sample Performance: \", rmse_test)"
   ]
  },
  {
   "cell_type": "code",
   "execution_count": null,
   "id": "39ed7949",
   "metadata": {},
   "outputs": [],
   "source": []
  }
 ],
 "metadata": {
  "kernelspec": {
   "display_name": "Python 3",
   "language": "python",
   "name": "python3"
  },
  "language_info": {
   "codemirror_mode": {
    "name": "ipython",
    "version": 3
   },
   "file_extension": ".py",
   "mimetype": "text/x-python",
   "name": "python",
   "nbconvert_exporter": "python",
   "pygments_lexer": "ipython3",
   "version": "3.8.8"
  }
 },
 "nbformat": 4,
 "nbformat_minor": 5
}
